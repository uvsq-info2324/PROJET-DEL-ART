{
 "cells": [
  {
   "cell_type": "markdown",
   "metadata": {},
   "source": [
    "### Fonctions utilitaires\n",
    "\n",
    "Compléter en ajoutant les fonctions de padding et de découpage en bloc."
   ]
  },
  {
   "cell_type": "code",
   "execution_count": 1,
   "metadata": {},
   "outputs": [],
   "source": [
    "import PIL\n",
    "from PIL import Image\n",
    "import numpy as np\n",
    "import scipy as sp\n",
    "import os\n",
    "from math import log10, sqrt\n",
    "\n",
    "def load(filename):\n",
    "    toLoad= Image.open(filename)\n",
    "    return np.array(toLoad)\n",
    "\n",
    "\n",
    "def psnr(original, compressed):\n",
    "    mse = np.mean((original.astype(int) - compressed) ** 2)\n",
    "    max_pixel = 255.0\n",
    "    psnr = 20 * log10(max_pixel / sqrt(mse))\n",
    "    return psnr\n"
   ]
  },
  {
   "cell_type": "markdown",
   "metadata": {},
   "source": [
    "### Utilitaires pour le calcul des palettes et des patchs\n",
    "\n",
    "Fonctions auxiliaires pour manipuler les palettes, les pixels et les blocs. "
   ]
  },
  {
   "cell_type": "code",
   "execution_count": 2,
   "metadata": {},
   "outputs": [],
   "source": [
    "def load(filename):\n",
    "    toLoad= Image.open(filename)\n",
    "    return np.array(toLoad)\n",
    "\n",
    "def save(matPix, filename):\n",
    "    Image.fromarray(matPix).save(filename)\n",
    "\n",
    "def padding(filename):\n",
    "    mat = load(filename)\n",
    "\n",
    "    ligne_mat = mat.shape[0]\n",
    "    colonne_mat = mat.shape[1]\n",
    "\n",
    "    #Obtenir le nombre de ligne et de colonne à rajouter.\n",
    "    ligne_mat_manquante = (4 - ligne_mat % 4) % 4  \n",
    "    colonne_mat_manquante = (4 - colonne_mat % 4) % 4\n",
    "\n",
    "    #Création d'une matrice vide de la taille souhaitée. \n",
    "    mat_padding = np.zeros((ligne_mat + ligne_mat_manquante, colonne_mat + colonne_mat_manquante, 3),dtype = mat.dtype)\n",
    "    mat_padding[:ligne_mat, :colonne_mat] = mat\n",
    "\n",
    "    return mat_padding \n",
    "\n",
    "def decoupe_matrice(mat):\n",
    "    ligne_mat = mat.shape[0]\n",
    "    colonne_mat = mat.shape[1]\n",
    "\n",
    "    #Création d'une liste qui va contenir tout les carre de 4x4 pixel en RGB.\n",
    "    global Liste_des_blocs\n",
    "    Liste_des_blocs=[]\n",
    "    for ligne in range(0, ligne_mat, 4):\n",
    "        for colonne in range(0, colonne_mat, 4):\n",
    "            bloc = mat[ligne:ligne+4, colonne:colonne+4]\n",
    "            Liste_des_blocs.append(bloc)\n",
    "\n",
    "    return Liste_des_blocs\n",
    "\n",
    "def non_padding(filename, ligne_de_base, colonne_de_base):\n",
    "    #Padding\n",
    "    mat_padding = padding(filename)\n",
    "    #Découpe de la matrice\n",
    "    Liste_des_blocs = decoupe_matrice(mat_padding)\n",
    "\n",
    "    #Dimensions de la matrice recollée.\n",
    "    ligne_mat = mat_padding.shape[0]\n",
    "    colonne_mat = mat_padding.shape[1]\n",
    "\n",
    "    #Création de la matrice recollée.\n",
    "    mat_recoller = np.zeros((ligne_mat, colonne_mat, 3), dtype=mat_padding.dtype)\n",
    "    for i in range(len(Liste_des_blocs)):\n",
    "        ligne_idx = (i // (colonne_de_base // 4)) * 4\n",
    "        col_idx = (i % (colonne_de_base // 4)) * 4\n",
    "        mat_recoller[ligne_idx:ligne_idx+4, col_idx:col_idx+4] = Liste_des_blocs[i]\n",
    "\n",
    "    #Retour à la matrice initiale.\n",
    "    mat_de_base = mat_recoller[:ligne_de_base, :colonne_de_base]\n",
    "    \n",
    "    return mat_de_base"
   ]
  },
  {
   "cell_type": "code",
   "execution_count": 3,
   "metadata": {},
   "outputs": [],
   "source": [
    "def tronque(nombre, p):\n",
    "    #On met le nombres n en binaire.\n",
    "    nombre_binaire = []\n",
    "    while nombre != 0:\n",
    "        nombre_binaire.append(nombre % 2)\n",
    "        nombre = nombre // 2\n",
    "    nombre_binaire.reverse()\n",
    "\n",
    "    #On enlève les p bits de poids faible.\n",
    "    nombre_binaire = nombre_binaire[:-p]\n",
    "    \n",
    "    #On remet le nombre en bianire.\n",
    "    nombre_decimal = 0\n",
    "    for i in range(len(nombre_binaire)):\n",
    "        nombre_decimal += nombre_binaire[i] * (2 ** (len(nombre_binaire) - 1 - i))\n",
    "\n",
    "    return nombre_decimal\n",
    "\n",
    "def palette(a, b):\n",
    "    #On crée notre palette.\n",
    "    palette = np.zeros((4, 3), dtype=int)\n",
    "    palette[0] = a\n",
    "    palette[1] = np.round(2 * np.array(a) / 3 + np.array(b) / 3)\n",
    "    palette[2] = np.round(np.array(a) / 3 + 2 * np.array(b) / 3)\n",
    "    palette[3] = b\n",
    "    \n",
    "    return palette\n",
    "\n",
    "def couleur_la_plus_proche(palette, pixel):\n",
    "    #Initialise l'indice de la couleur la plus proche avec la première couleur de la palette.\n",
    "    indice_couleur_plus_proche = 0\n",
    "    distance_euclidienne_la_plus_petite = np.linalg.norm(palette[0].astype(int) - pixel)\n",
    "    \n",
    "    #On test avec les autre couleur de la palette.\n",
    "    for indice in range (len(palette)):\n",
    "        distance_euclidienne = np.linalg.norm(palette[indice].astype(int) - pixel)\n",
    "        if distance_euclidienne < distance_euclidienne_la_plus_petite:\n",
    "            indice_couleur_plus_proche = indice\n",
    "\n",
    "    return indice_couleur_plus_proche"
   ]
  },
  {
   "cell_type": "markdown",
   "metadata": {},
   "source": [
    "### Les méthodes de choix des couleurs de la palette\n",
    "\n",
    "\n",
    "On peut essayer plusieurs stratégies pour calculer les deux couleurs a et b:\n",
    "* Calculer la couleur minimale et maximale\n",
    "* Prendre des couleurs moyennes (calculer moyenne et variance pour trouver les meilleurs valeurs) \n",
    "* Calculer 10 valeurs au hasard et prendre la meilleure\n",
    "* Partir d'un choix et perturber pour améliorer le résultat: on teste la meilleure modification de 16 d'un des canaux d'une des couleurs"
   ]
  },
  {
   "cell_type": "code",
   "execution_count": 4,
   "metadata": {},
   "outputs": [],
   "source": [
    "def creer_couleurs_min_max(bloc_image):\n",
    "    #Initialise nos canaux RGB minimal et maximal.\n",
    "    rouge_minimal, rouge_maximal = 255, 0\n",
    "    vert_minimal, vert_maximal = 255, 0\n",
    "    bleu_minimal, bleu_maximal = 255, 0\n",
    "\n",
    "    #On modifie nos canaux RGB minimal et maximal.\n",
    "    for ligne in bloc_image:\n",
    "        for colonne in ligne:\n",
    "            rouge_minimal, rouge_maximal = min(rouge_minimal, colonne[0]), max(rouge_maximal, colonne[0]) \n",
    "            vert_minimal, vert_maximal = min(vert_minimal, colonne[1]), max(vert_maximal, colonne[1])    \n",
    "            bleu_minimal, bleu_maximal = min(bleu_minimal, colonne[2]), max(bleu_maximal, colonne[2]) \n",
    "\n",
    "    #couleur_minimale = (rouge_minimal, vert_minimal, bleu_minimal)\n",
    "    #couleur_maximale = (rouge_maximal, vert_maximal, bleu_maximal)\n",
    "    \n",
    "    #On met nos couleur au bon format.\n",
    "    couleur_minimale = ((tronque(rouge_minimal,3)), (tronque(vert_minimal,2)), (tronque(bleu_minimal,3)))\n",
    "    couleur_maximale = ((tronque(rouge_maximal,3)), (tronque(vert_maximal,2)), (tronque(bleu_maximal,3)))\n",
    "\n",
    "    return couleur_minimale, couleur_maximale"
   ]
  },
  {
   "cell_type": "markdown",
   "metadata": {},
   "source": [
    "### Encodage d'un bloc\n",
    "\n",
    "Écrire ici le code qui permet d'encoder un bloc et une palette en un entier."
   ]
  },
  {
   "cell_type": "code",
   "execution_count": 5,
   "metadata": {},
   "outputs": [],
   "source": [
    "def patch(tableaux_des_indices, a, b, i):\n",
    "    patch = \"\"\n",
    "    #On met en binaire l'indice de la couleur la plus proche de la palette par rapport a tout les pixels.\n",
    "    for indices in tableaux_des_indices:\n",
    "        pixel = Liste_des_blocs[i][indices[0], indices[1]] #Pixel du block \"i\" de 4x4 pixel\n",
    "        indice_couleur_plus_proche = couleur_la_plus_proche(palette(a, b), pixel)\n",
    "        indice_couleur_plus_proche_binaire = bin(indice_couleur_plus_proche)[2:].zfill(2)\n",
    "        patch += str(indice_couleur_plus_proche_binaire)\n",
    "\n",
    "    #On ajoute nos couleur.\n",
    "    patch += str(bin(b[2]))[2:].zfill(5) + str(bin(b[1]))[2:].zfill(6) + str(bin(b[0]))[2:].zfill(5) \\\n",
    "        + str(bin(a[2]))[2:].zfill(5) + str(bin(a[1]))[2:].zfill(6) + str(bin(a[0]))[2:].zfill(5)\n",
    "    \n",
    "    return patch"
   ]
  },
  {
   "cell_type": "markdown",
   "metadata": {},
   "source": [
    "### Écriture et lecture dans un fichier"
   ]
  },
  {
   "cell_type": "code",
   "execution_count": 6,
   "metadata": {},
   "outputs": [],
   "source": [
    "def informations_image(type_fichier, hauteur, largeur):\n",
    "    with open(\"informations_image.txt\", \"w\") as f:\n",
    "        f.write(type_fichier + \"\\n\")\n",
    "        f.write(str(hauteur) + \" \" + str(largeur) + \"\\n\")\n",
    "\n",
    "def ecrire_patches(tableaux_des_indices):\n",
    "    with open(\"informations_image.txt\", \"a\") as f:\n",
    "        #Boucle pour chaque bloc\n",
    "        for i in range(len(Liste_des_blocs)):\n",
    "            a, b = creer_couleurs_min_max(Liste_des_blocs[i])\n",
    "            #Transforme notre patch binaire en decimal.\n",
    "            patch_i = str(int(patch(tableaux_des_indices, a, b, i), 2))\n",
    "            f.write(patch_i + \"\\n\")"
   ]
  },
  {
   "cell_type": "markdown",
   "metadata": {},
   "source": [
    "### Fonctions de test\n",
    "\n",
    "Écrire ici tous vos tests. Chaque fonction écrite doit être testée."
   ]
  },
  {
   "cell_type": "code",
   "execution_count": 7,
   "metadata": {},
   "outputs": [],
   "source": [
    "#Test de la fonction \"padding\"\n",
    "\n",
    "mat_padding = padding(\"proc.jpg\")\n",
    "save(mat_padding, \"proc_padding.jpg\")"
   ]
  },
  {
   "cell_type": "code",
   "execution_count": 8,
   "metadata": {},
   "outputs": [
    {
     "name": "stdout",
     "output_type": "stream",
     "text": [
      "[[[94 54 18]\n",
      "  [94 54 18]\n",
      "  [94 54 18]\n",
      "  [94 54 18]]\n",
      "\n",
      " [[94 54 18]\n",
      "  [94 54 18]\n",
      "  [94 54 18]\n",
      "  [94 54 18]]\n",
      "\n",
      " [[94 54 18]\n",
      "  [94 54 18]\n",
      "  [94 54 18]\n",
      "  [94 54 18]]\n",
      "\n",
      " [[95 55 19]\n",
      "  [95 55 19]\n",
      "  [95 55 19]\n",
      "  [95 55 19]]]\n"
     ]
    }
   ],
   "source": [
    "#Test de la fonction \"decoupe_matrice\"\n",
    "\n",
    "decoupe_matrice(mat_padding)\n",
    "pixel = Liste_des_blocs[0]\n",
    "print(pixel)"
   ]
  },
  {
   "cell_type": "code",
   "execution_count": 9,
   "metadata": {},
   "outputs": [],
   "source": [
    "#Test de la fonction \"non_padding\"\n",
    "\n",
    "mat_de_base = non_padding(\"proc.jpg\",1537,2048)\n",
    "save(mat_de_base, \"proc_non_padding.jpg\")"
   ]
  },
  {
   "cell_type": "code",
   "execution_count": 10,
   "metadata": {},
   "outputs": [
    {
     "name": "stdout",
     "output_type": "stream",
     "text": [
      "Nouvelle valeur 31\n"
     ]
    }
   ],
   "source": [
    "#Test de la fonction \"tronque\"\n",
    "\n",
    "n = 255\n",
    "p = 3   \n",
    "n_tronque = tronque(n, p)\n",
    "print(\"Nouvelle valeur\", n_tronque)"
   ]
  },
  {
   "cell_type": "code",
   "execution_count": 11,
   "metadata": {},
   "outputs": [
    {
     "name": "stdout",
     "output_type": "stream",
     "text": [
      "[[11 22 11]\n",
      " [15 30 15]\n",
      " [18 37 18]\n",
      " [22 45 22]]\n"
     ]
    }
   ],
   "source": [
    "#Test de la fonction \"palette\"\n",
    "\n",
    "a = [tronque(90,3),tronque(90,2),tronque(90,3)]\n",
    "b = [tronque(180,3),tronque(180,2),tronque(180,3)]\n",
    "c = palette(a, b)\n",
    "print(c)"
   ]
  },
  {
   "cell_type": "code",
   "execution_count": 12,
   "metadata": {},
   "outputs": [
    {
     "name": "stdout",
     "output_type": "stream",
     "text": [
      "3\n"
     ]
    }
   ],
   "source": [
    "#Test de la fonction \"couleur_la_plus_proche\"\n",
    "\n",
    "pixel = [100, 100, 100]\n",
    "print(couleur_la_plus_proche(c, pixel))"
   ]
  },
  {
   "cell_type": "code",
   "execution_count": 13,
   "metadata": {},
   "outputs": [
    {
     "name": "stdout",
     "output_type": "stream",
     "text": [
      "0000000000000000000000000000000000010001101010110001000110101011\n"
     ]
    }
   ],
   "source": [
    "#Test de la fonction \"patch\"\n",
    "\n",
    "tableaux_des_indices = [[3,3],[3,2],[3,1],[3,0],[2,3],[2,2],[2,1],[2,0],[1,3],[1,2],[1,1],[1,0],[0,3],[0,2],[0,1],[0,0]]\n",
    "a, b = creer_couleurs_min_max(Liste_des_blocs[0])\n",
    "patch_0 = patch(tableaux_des_indices, a, b, 0)\n",
    "print(patch_0)"
   ]
  },
  {
   "cell_type": "code",
   "execution_count": 14,
   "metadata": {},
   "outputs": [],
   "source": [
    "#Test de la fonction \"informations_image\"\n",
    "\n",
    "informations_image(\"BC1\", 1537, 2048)"
   ]
  },
  {
   "cell_type": "code",
   "execution_count": 15,
   "metadata": {},
   "outputs": [
    {
     "ename": "KeyboardInterrupt",
     "evalue": "",
     "output_type": "error",
     "traceback": [
      "\u001b[1;31m---------------------------------------------------------------------------\u001b[0m",
      "\u001b[1;31mKeyboardInterrupt\u001b[0m                         Traceback (most recent call last)",
      "Cell \u001b[1;32mIn[15], line 4\u001b[0m\n\u001b[0;32m      1\u001b[0m \u001b[38;5;66;03m#Test de la fonction \"ecrire_patches\"\u001b[39;00m\n\u001b[0;32m      3\u001b[0m tableaux_des_indices \u001b[38;5;241m=\u001b[39m [[\u001b[38;5;241m3\u001b[39m,\u001b[38;5;241m3\u001b[39m],[\u001b[38;5;241m3\u001b[39m,\u001b[38;5;241m2\u001b[39m],[\u001b[38;5;241m3\u001b[39m,\u001b[38;5;241m1\u001b[39m],[\u001b[38;5;241m3\u001b[39m,\u001b[38;5;241m0\u001b[39m],[\u001b[38;5;241m2\u001b[39m,\u001b[38;5;241m3\u001b[39m],[\u001b[38;5;241m2\u001b[39m,\u001b[38;5;241m2\u001b[39m],[\u001b[38;5;241m2\u001b[39m,\u001b[38;5;241m1\u001b[39m],[\u001b[38;5;241m2\u001b[39m,\u001b[38;5;241m0\u001b[39m],[\u001b[38;5;241m1\u001b[39m,\u001b[38;5;241m3\u001b[39m],[\u001b[38;5;241m1\u001b[39m,\u001b[38;5;241m2\u001b[39m],[\u001b[38;5;241m1\u001b[39m,\u001b[38;5;241m1\u001b[39m],[\u001b[38;5;241m1\u001b[39m,\u001b[38;5;241m0\u001b[39m],[\u001b[38;5;241m0\u001b[39m,\u001b[38;5;241m3\u001b[39m],[\u001b[38;5;241m0\u001b[39m,\u001b[38;5;241m2\u001b[39m],[\u001b[38;5;241m0\u001b[39m,\u001b[38;5;241m1\u001b[39m],[\u001b[38;5;241m0\u001b[39m,\u001b[38;5;241m0\u001b[39m]]\n\u001b[1;32m----> 4\u001b[0m \u001b[43mecrire_patches\u001b[49m\u001b[43m(\u001b[49m\u001b[43mtableaux_des_indices\u001b[49m\u001b[43m)\u001b[49m\n",
      "Cell \u001b[1;32mIn[6], line 12\u001b[0m, in \u001b[0;36mecrire_patches\u001b[1;34m(tableaux_des_indices)\u001b[0m\n\u001b[0;32m     10\u001b[0m a, b \u001b[38;5;241m=\u001b[39m creer_couleurs_min_max(Liste_des_blocs[i])\n\u001b[0;32m     11\u001b[0m \u001b[38;5;66;03m#Transforme notre patch binaire en decimal.\u001b[39;00m\n\u001b[1;32m---> 12\u001b[0m patch_i \u001b[38;5;241m=\u001b[39m \u001b[38;5;28mstr\u001b[39m(\u001b[38;5;28mint\u001b[39m(\u001b[43mpatch\u001b[49m\u001b[43m(\u001b[49m\u001b[43mtableaux_des_indices\u001b[49m\u001b[43m,\u001b[49m\u001b[43m \u001b[49m\u001b[43ma\u001b[49m\u001b[43m,\u001b[49m\u001b[43m \u001b[49m\u001b[43mb\u001b[49m\u001b[43m,\u001b[49m\u001b[43m \u001b[49m\u001b[43mi\u001b[49m\u001b[43m)\u001b[49m, \u001b[38;5;241m2\u001b[39m))\n\u001b[0;32m     13\u001b[0m f\u001b[38;5;241m.\u001b[39mwrite(patch_i \u001b[38;5;241m+\u001b[39m \u001b[38;5;124m\"\u001b[39m\u001b[38;5;130;01m\\n\u001b[39;00m\u001b[38;5;124m\"\u001b[39m)\n",
      "Cell \u001b[1;32mIn[5], line 6\u001b[0m, in \u001b[0;36mpatch\u001b[1;34m(tableaux_des_indices, a, b, i)\u001b[0m\n\u001b[0;32m      4\u001b[0m \u001b[38;5;28;01mfor\u001b[39;00m indices \u001b[38;5;129;01min\u001b[39;00m tableaux_des_indices:\n\u001b[0;32m      5\u001b[0m     pixel \u001b[38;5;241m=\u001b[39m Liste_des_blocs[i][indices[\u001b[38;5;241m0\u001b[39m], indices[\u001b[38;5;241m1\u001b[39m]] \u001b[38;5;66;03m#Pixel du block \"i\" de 4x4 pixel\u001b[39;00m\n\u001b[1;32m----> 6\u001b[0m     indice_couleur_plus_proche \u001b[38;5;241m=\u001b[39m \u001b[43mcouleur_la_plus_proche\u001b[49m\u001b[43m(\u001b[49m\u001b[43mpalette\u001b[49m\u001b[43m(\u001b[49m\u001b[43ma\u001b[49m\u001b[43m,\u001b[49m\u001b[43m \u001b[49m\u001b[43mb\u001b[49m\u001b[43m)\u001b[49m\u001b[43m,\u001b[49m\u001b[43m \u001b[49m\u001b[43mpixel\u001b[49m\u001b[43m)\u001b[49m\n\u001b[0;32m      7\u001b[0m     indice_couleur_plus_proche_binaire \u001b[38;5;241m=\u001b[39m \u001b[38;5;28mbin\u001b[39m(indice_couleur_plus_proche)[\u001b[38;5;241m2\u001b[39m:]\u001b[38;5;241m.\u001b[39mzfill(\u001b[38;5;241m2\u001b[39m)\n\u001b[0;32m      8\u001b[0m     patch \u001b[38;5;241m+\u001b[39m\u001b[38;5;241m=\u001b[39m \u001b[38;5;28mstr\u001b[39m(indice_couleur_plus_proche_binaire)\n",
      "Cell \u001b[1;32mIn[3], line 36\u001b[0m, in \u001b[0;36mcouleur_la_plus_proche\u001b[1;34m(palette, pixel)\u001b[0m\n\u001b[0;32m     34\u001b[0m \u001b[38;5;66;03m#On test avec les autre couleur de la palette.\u001b[39;00m\n\u001b[0;32m     35\u001b[0m \u001b[38;5;28;01mfor\u001b[39;00m indice \u001b[38;5;129;01min\u001b[39;00m \u001b[38;5;28mrange\u001b[39m (\u001b[38;5;28mlen\u001b[39m(palette)):\n\u001b[1;32m---> 36\u001b[0m     distance_euclidienne \u001b[38;5;241m=\u001b[39m \u001b[43mnp\u001b[49m\u001b[38;5;241;43m.\u001b[39;49m\u001b[43mlinalg\u001b[49m\u001b[38;5;241;43m.\u001b[39;49m\u001b[43mnorm\u001b[49m\u001b[43m(\u001b[49m\u001b[43mpalette\u001b[49m\u001b[43m[\u001b[49m\u001b[43mindice\u001b[49m\u001b[43m]\u001b[49m\u001b[38;5;241;43m.\u001b[39;49m\u001b[43mastype\u001b[49m\u001b[43m(\u001b[49m\u001b[38;5;28;43mint\u001b[39;49m\u001b[43m)\u001b[49m\u001b[43m \u001b[49m\u001b[38;5;241;43m-\u001b[39;49m\u001b[43m \u001b[49m\u001b[43mpixel\u001b[49m\u001b[43m)\u001b[49m\n\u001b[0;32m     37\u001b[0m     \u001b[38;5;28;01mif\u001b[39;00m distance_euclidienne \u001b[38;5;241m<\u001b[39m distance_euclidienne_la_plus_petite:\n\u001b[0;32m     38\u001b[0m         indice_couleur_plus_proche \u001b[38;5;241m=\u001b[39m indice\n",
      "File \u001b[1;32mc:\\Users\\bapti\\miniconda3\\Lib\\site-packages\\numpy\\linalg\\linalg.py:2537\u001b[0m, in \u001b[0;36mnorm\u001b[1;34m(x, ord, axis, keepdims)\u001b[0m\n\u001b[0;32m   2534\u001b[0m x \u001b[38;5;241m=\u001b[39m asarray(x)\n\u001b[0;32m   2536\u001b[0m \u001b[38;5;28;01mif\u001b[39;00m \u001b[38;5;129;01mnot\u001b[39;00m \u001b[38;5;28missubclass\u001b[39m(x\u001b[38;5;241m.\u001b[39mdtype\u001b[38;5;241m.\u001b[39mtype, (inexact, object_)):\n\u001b[1;32m-> 2537\u001b[0m     x \u001b[38;5;241m=\u001b[39m x\u001b[38;5;241m.\u001b[39mastype(\u001b[38;5;28mfloat\u001b[39m)\n\u001b[0;32m   2539\u001b[0m \u001b[38;5;66;03m# Immediately handle some default, simple, fast, and common cases.\u001b[39;00m\n\u001b[0;32m   2540\u001b[0m \u001b[38;5;28;01mif\u001b[39;00m axis \u001b[38;5;129;01mis\u001b[39;00m \u001b[38;5;28;01mNone\u001b[39;00m:\n",
      "\u001b[1;31mKeyboardInterrupt\u001b[0m: "
     ]
    }
   ],
   "source": [
    "#Test de la fonction \"ecrire_patches\"\n",
    "\n",
    "tableaux_des_indices = [[3,3],[3,2],[3,1],[3,0],[2,3],[2,2],[2,1],[2,0],[1,3],[1,2],[1,1],[1,0],[0,3],[0,2],[0,1],[0,0]]\n",
    "ecrire_patches(tableaux_des_indices)"
   ]
  },
  {
   "cell_type": "code",
   "execution_count": 16,
   "metadata": {},
   "outputs": [],
   "source": [
    "a = [[[94, 54, 18], [94, 54, 18], [94, 54, 18], [94, 54, 18]],\n",
    "     [[94, 54, 18], [94, 54, 18], [94, 54, 18], [94, 54, 18]],\n",
    "     [[94, 54, 18], [94, 54, 18], [94, 54, 18], [94, 54, 18]],\n",
    "     [[95, 55, 19], [95, 55, 19], [95, 55, 19], [95, 55, 19]]]"
   ]
  }
 ],
 "metadata": {
  "kernelspec": {
   "display_name": "base",
   "language": "python",
   "name": "python3"
  },
  "language_info": {
   "codemirror_mode": {
    "name": "ipython",
    "version": 3
   },
   "file_extension": ".py",
   "mimetype": "text/x-python",
   "name": "python",
   "nbconvert_exporter": "python",
   "pygments_lexer": "ipython3",
   "version": "3.11.4"
  }
 },
 "nbformat": 4,
 "nbformat_minor": 2
}
