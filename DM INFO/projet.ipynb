{
 "cells": [
  {
   "cell_type": "markdown",
   "metadata": {},
   "source": [
    "### Fonctions utilitaires\n",
    "\n",
    "Compléter en ajoutant les fonctions de padding et de découpage en bloc."
   ]
  },
  {
   "cell_type": "code",
   "execution_count": 1,
   "metadata": {},
   "outputs": [],
   "source": [
    "import PIL\n",
    "from PIL import Image\n",
    "import numpy as np\n",
    "import scipy as sp\n",
    "import os\n",
    "from math import log10, sqrt\n",
    "\n",
    "def load(filename):\n",
    "    toLoad= Image.open(filename)\n",
    "    return np.array(toLoad)\n",
    "\n",
    "\n",
    "def psnr(original, compressed):\n",
    "    mse = np.mean((original.astype(int) - compressed) ** 2)\n",
    "    max_pixel = 255.0\n",
    "    psnr = 20 * log10(max_pixel / sqrt(mse))\n",
    "    return psnr\n"
   ]
  },
  {
   "cell_type": "markdown",
   "metadata": {},
   "source": [
    "### Utilitaires pour le calcul des palettes et des patchs\n",
    "\n",
    "Fonctions auxiliaires pour manipuler les palettes, les pixels et les blocs. "
   ]
  },
  {
   "cell_type": "code",
   "execution_count": 2,
   "metadata": {},
   "outputs": [],
   "source": [
    "def load(filename):\n",
    "    toLoad= Image.open(filename)\n",
    "    return np.array(toLoad)\n",
    "\n",
    "def save(matPix, filename):\n",
    "    Image.fromarray(matPix).save(filename)\n",
    "\n",
    "def padding(filename):\n",
    "    mat = load(filename)\n",
    "\n",
    "    ligne_mat = mat.shape[0]\n",
    "    colonne_mat = mat.shape[1]\n",
    "\n",
    "    #Obtenir le nombre de ligne et de colonne à rajouter.\n",
    "    ligne_mat_manquante = (4-ligne_mat % 4) % 4  \n",
    "    colonne_mat_manquante = (4-colonne_mat % 4) % 4\n",
    "\n",
    "    #Création d'une matrice vide de la taille souhaitée. \n",
    "    mat_padding = np.zeros((ligne_mat+ligne_mat_manquante,colonne_mat+colonne_mat_manquante,3),dtype = mat.dtype)\n",
    "    mat_padding[:ligne_mat, :colonne_mat] = mat\n",
    "\n",
    "    return mat_padding \n",
    "\n",
    "def decoupe_matrice(mat):\n",
    "    ligne_mat = mat.shape[0]\n",
    "    colonne_mat = mat.shape[1]\n",
    "\n",
    "    #Création d'une liste qui va contenir tout les carre de 4x4 pixel en RGB.\n",
    "    global L\n",
    "    L=[]\n",
    "    for i in range(0, ligne_mat, 4):\n",
    "        for j in range(0, colonne_mat, 4):\n",
    "            carre = mat[i:i+4, j:j+4]\n",
    "            L.append(carre)\n",
    "\n",
    "    return L\n",
    "\n",
    "def non_padding(filename, ligne_de_base, colonne_de_base):\n",
    "    #Padding\n",
    "    mat_padding = padding(filename)\n",
    "    #Découpe de la matrice\n",
    "    L = decoupe_matrice(mat_padding)\n",
    "\n",
    "    #Dimensions de la matrice recollée.\n",
    "    ligne_mat = mat_padding.shape[0]\n",
    "    colonne_mat = mat_padding.shape[1]\n",
    "\n",
    "    #Création de la matrice recollée.\n",
    "    mat_recoller = np.zeros((ligne_mat, colonne_mat, 3), dtype=mat_padding.dtype)\n",
    "    for i in range(len(L)):\n",
    "        ligne_idx = (i // (colonne_de_base // 4)) * 4\n",
    "        col_idx = (i % (colonne_de_base // 4)) * 4\n",
    "        mat_recoller[ligne_idx:ligne_idx+4, col_idx:col_idx+4] = L[i]\n",
    "\n",
    "    #Retour à la matrice initiale.\n",
    "    mat_de_base = mat_recoller[:ligne_de_base,:colonne_de_base]\n",
    "    \n",
    "    return mat_de_base\n",
    "\n",
    "mat_padding = padding(\"proc.jpg\")\n",
    "save(mat_padding, \"proc_padding.jpg\")\n",
    "mat_de_base = non_padding(\"proc.jpg\",1537,2048)\n",
    "save(mat_de_base, \"proc_non_padding.jpg\")"
   ]
  },
  {
   "cell_type": "code",
   "execution_count": 3,
   "metadata": {},
   "outputs": [
    {
     "name": "stdout",
     "output_type": "stream",
     "text": [
      "Nouvelle valeur 31\n",
      "[[11 22 11]\n",
      " [15 30 15]\n",
      " [18 37 18]\n",
      " [22 45 22]]\n",
      "3\n",
      "0b110b110b110b110b110b110b110b110b110b110b110b110b110b110b110b11\n"
     ]
    }
   ],
   "source": [
    "def tronque(n, p):\n",
    "    n_binaire = []\n",
    "    while n != 0:\n",
    "        n_binaire.append(n % 2)\n",
    "        n = n // 2\n",
    "    n_binaire.reverse()\n",
    "\n",
    "    n_binaire = n_binaire[:-p]\n",
    "\n",
    "    n_decimal = 0\n",
    "    for i in range(len(n_binaire)):\n",
    "        n_decimal += n_binaire[i] * (2 ** (len(n_binaire) - 1 - i))\n",
    "\n",
    "    return n_decimal\n",
    "\n",
    "n = 255\n",
    "p = 3   \n",
    "n_tronque = tronque(n, p)\n",
    "print(\"Nouvelle valeur\", n_tronque)\n",
    "\n",
    "\n",
    "\n",
    "def palette(a, b):\n",
    "    a = [tronque(a[0],3), tronque(a[1],2), tronque(a[2],3)]\n",
    "    b = [tronque(b[0],3), tronque(b[1],2), tronque(b[2],3)]\n",
    "    \n",
    "    palette = np.zeros((4, 3), dtype=int)\n",
    "    palette[0] = a\n",
    "    palette[1] = np.round(2 * np.array(a) / 3 + np.array(b) / 3)\n",
    "    palette[2] = np.round(np.array(a) / 3 + 2 * np.array(b) / 3)\n",
    "    palette[3] = b\n",
    "    \n",
    "    return palette\n",
    "\n",
    "a = [90,90,90]\n",
    "b = [180,180,180]\n",
    "c = palette(a, b)\n",
    "print(c)\n",
    "\n",
    "\n",
    "\n",
    "def couleur_la_plus_proche(palette, pixel):\n",
    "    indice_couleur_plus_proche = 0\n",
    "    distance_euclidienne_la_plus_petite = np.linalg.norm(palette[0].astype(int) - pixel)\n",
    "    for i in range (len(palette)):\n",
    "        distance_euclidienne = np.linalg.norm(palette[i].astype(int) - pixel)\n",
    "        if distance_euclidienne < distance_euclidienne_la_plus_petite:\n",
    "            indice_couleur_plus_proche = i\n",
    "\n",
    "    return indice_couleur_plus_proche\n",
    "\n",
    "pixel = [100, 100, 100]\n",
    "print(couleur_la_plus_proche(c, pixel))\n",
    "\n",
    "\n",
    "\n",
    "def patch(tableaux_des_indices, palette):\n",
    "    patch = \"\"\n",
    "    for indices in tableaux_des_indices:\n",
    "        pixel = L[0][indices[0], indices[1]]  #Pixel du premier block de 4x4 pixel\n",
    "        indice_couleur_plus_proche = couleur_la_plus_proche(palette, pixel)\n",
    "        indice_couleur_plus_proche_binaire = bin(indice_couleur_plus_proche)  #Binaire\n",
    "        patch += str(indice_couleur_plus_proche_binaire)\n",
    "\n",
    "    return patch\n",
    "\n",
    "tableaux_des_indices = [[3,3],[3,2],[3,1],[3,0],[2,3],[2,2],[2,1],[2,0],[1,3],[1,2],[1,1],[1,0],[0,3],[0,2],[0,1],[0,0]]\n",
    "indices_patchés = patch(tableaux_des_indices, c)\n",
    "print(indices_patchés)"
   ]
  },
  {
   "cell_type": "markdown",
   "metadata": {},
   "source": [
    "### Les méthodes de choix des couleurs de la palette\n",
    "\n",
    "\n",
    "On peut essayer plusieurs stratégies pour calculer les deux couleurs a et b:\n",
    "* Calculer la couleur minimale et maximale\n",
    "* Prendre des couleurs moyennes (calculer moyenne et variance pour trouver les meilleurs valeurs) \n",
    "* Calculer 10 valeurs au hasard et prendre la meilleure\n",
    "* Partir d'un choix et perturber pour améliorer le résultat: on teste la meilleure modification de 16 d'un des canaux d'une des couleurs"
   ]
  },
  {
   "cell_type": "code",
   "execution_count": null,
   "metadata": {},
   "outputs": [],
   "source": []
  },
  {
   "cell_type": "markdown",
   "metadata": {},
   "source": [
    "### Encodage d'un bloc\n",
    "\n",
    "Écrire ici le code qui permet d'encoder un bloc et une palette en un entier."
   ]
  },
  {
   "cell_type": "code",
   "execution_count": null,
   "metadata": {},
   "outputs": [],
   "source": [
    "\n",
    "\n"
   ]
  },
  {
   "cell_type": "markdown",
   "metadata": {},
   "source": [
    "### Écriture et lecture dans un fichier"
   ]
  },
  {
   "cell_type": "code",
   "execution_count": null,
   "metadata": {},
   "outputs": [],
   "source": []
  },
  {
   "cell_type": "markdown",
   "metadata": {},
   "source": [
    "### Fonctions de test\n",
    "\n",
    "Écrire ici tous vos tests. Chaque fonction écrite doit être testée."
   ]
  },
  {
   "cell_type": "code",
   "execution_count": null,
   "metadata": {},
   "outputs": [],
   "source": []
  }
 ],
 "metadata": {
  "kernelspec": {
   "display_name": "base",
   "language": "python",
   "name": "python3"
  },
  "language_info": {
   "codemirror_mode": {
    "name": "ipython",
    "version": 3
   },
   "file_extension": ".py",
   "mimetype": "text/x-python",
   "name": "python",
   "nbconvert_exporter": "python",
   "pygments_lexer": "ipython3",
   "version": "3.11.4"
  }
 },
 "nbformat": 4,
 "nbformat_minor": 2
}
